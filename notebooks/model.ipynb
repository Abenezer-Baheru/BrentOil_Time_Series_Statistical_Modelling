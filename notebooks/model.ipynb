{
 "cells": [
  {
   "cell_type": "markdown",
   "metadata": {},
   "source": [
    "1: Import Necessary Libraries and Load Data"
   ]
  },
  {
   "cell_type": "code",
   "execution_count": 2,
   "metadata": {},
   "outputs": [
    {
     "name": "stderr",
     "output_type": "stream",
     "text": [
      "WARNING (pytensor.configdefaults): g++ not available, if using conda: `conda install m2w64-toolchain`\n",
      "WARNING (pytensor.configdefaults): g++ not detected!  PyTensor will be unable to compile C-implementations and will default to Python. Performance may be severely degraded. To remove this warning, set PyTensor flags cxx to an empty string.\n",
      "C:\\Users\\Abeni\\AppData\\Local\\Temp\\ipykernel_14168\\3971987452.py:18: UserWarning: Could not infer format, so each element will be parsed individually, falling back to `dateutil`. To ensure parsing is consistent and as-expected, please specify a format.\n",
      "  df = pd.read_csv(data_path, parse_dates=['Date'], index_col='Date')\n"
     ]
    },
    {
     "name": "stdout",
     "output_type": "stream",
     "text": [
      "            Price\n",
      "Date             \n",
      "1987-05-20  18.63\n",
      "1987-05-21  18.45\n",
      "1987-05-22  18.55\n",
      "1987-05-25  18.60\n",
      "1987-05-26  18.63\n"
     ]
    }
   ],
   "source": [
    "import pandas as pd\n",
    "import numpy as np\n",
    "import matplotlib.pyplot as plt\n",
    "import seaborn as sns\n",
    "from statsmodels.tsa.arima.model import ARIMA\n",
    "from arch import arch_model\n",
    "from statsmodels.tsa.vector_ar.var_model import VAR\n",
    "from statsmodels.tsa.regime_switching.markov_regression import MarkovRegression\n",
    "from sklearn.preprocessing import MinMaxScaler\n",
    "from tensorflow.keras.models import Sequential\n",
    "from tensorflow.keras.layers import LSTM, Dense\n",
    "import pymc as pm\n",
    "import ruptures as rpt\n",
    "from joblib import Parallel, delayed\n",
    "\n",
    "# Load the dataset\n",
    "data_path = '../src/data/BrentOilPrices.csv'\n",
    "df = pd.read_csv(data_path, parse_dates=['Date'], index_col='Date')\n",
    "\n",
    "print(df.head())"
   ]
  },
  {
   "cell_type": "markdown",
   "metadata": {},
   "source": [
    "2:0 Applying Advanced Time Series Models   "
   ]
  },
  {
   "cell_type": "markdown",
   "metadata": {},
   "source": [
    "2.1. ARIMA Model"
   ]
  },
  {
   "cell_type": "code",
   "execution_count": 20,
   "metadata": {},
   "outputs": [
    {
     "name": "stdout",
     "output_type": "stream",
     "text": [
      "Best ARIMA order: (2, 1, 3)\n"
     ]
    },
    {
     "name": "stderr",
     "output_type": "stream",
     "text": [
      "e:\\OnlineClass\\AIM\\BrentOil_Time_Series_Statistical_Modelling\\.venv\\Lib\\site-packages\\statsmodels\\tsa\\base\\tsa_model.py:473: ValueWarning: A date index has been provided, but it has no associated frequency information and so will be ignored when e.g. forecasting.\n",
      "  self._init_dates(dates, freq)\n",
      "e:\\OnlineClass\\AIM\\BrentOil_Time_Series_Statistical_Modelling\\.venv\\Lib\\site-packages\\statsmodels\\tsa\\base\\tsa_model.py:473: ValueWarning: A date index has been provided, but it has no associated frequency information and so will be ignored when e.g. forecasting.\n",
      "  self._init_dates(dates, freq)\n",
      "e:\\OnlineClass\\AIM\\BrentOil_Time_Series_Statistical_Modelling\\.venv\\Lib\\site-packages\\statsmodels\\tsa\\base\\tsa_model.py:473: ValueWarning: A date index has been provided, but it has no associated frequency information and so will be ignored when e.g. forecasting.\n",
      "  self._init_dates(dates, freq)\n",
      "e:\\OnlineClass\\AIM\\BrentOil_Time_Series_Statistical_Modelling\\.venv\\Lib\\site-packages\\statsmodels\\base\\model.py:607: ConvergenceWarning: Maximum Likelihood optimization failed to converge. Check mle_retvals\n",
      "  warnings.warn(\"Maximum Likelihood optimization failed to \"\n"
     ]
    },
    {
     "name": "stdout",
     "output_type": "stream",
     "text": [
      "                               SARIMAX Results                                \n",
      "==============================================================================\n",
      "Dep. Variable:                  Price   No. Observations:                 9011\n",
      "Model:                 ARIMA(2, 1, 3)   Log Likelihood              -14518.230\n",
      "Date:                Tue, 25 Feb 2025   AIC                          29048.459\n",
      "Time:                        22:08:43   BIC                          29091.096\n",
      "Sample:                             0   HQIC                         29062.967\n",
      "                               - 9011                                         \n",
      "Covariance Type:                  opg                                         \n",
      "==============================================================================\n",
      "                 coef    std err          z      P>|z|      [0.025      0.975]\n",
      "------------------------------------------------------------------------------\n",
      "ar.L1          0.0212      0.001     14.707      0.000       0.018       0.024\n",
      "ar.L2         -0.9958      0.002   -657.794      0.000      -0.999      -0.993\n",
      "ma.L1          0.0053      0.006      0.846      0.398      -0.007       0.018\n",
      "ma.L2          0.9921      0.002    514.290      0.000       0.988       0.996\n",
      "ma.L3          0.0330      0.006      5.464      0.000       0.021       0.045\n",
      "sigma2         1.4694      0.008    176.899      0.000       1.453       1.486\n",
      "===================================================================================\n",
      "Ljung-Box (L1) (Q):                   0.00   Jarque-Bera (JB):             64481.38\n",
      "Prob(Q):                              0.96   Prob(JB):                         0.00\n",
      "Heteroskedasticity (H):              10.98   Skew:                            -0.66\n",
      "Prob(H) (two-sided):                  0.00   Kurtosis:                        16.04\n",
      "===================================================================================\n",
      "\n",
      "Warnings:\n",
      "[1] Covariance matrix calculated using the outer product of gradients (complex-step).\n"
     ]
    }
   ],
   "source": [
    "# Define function to fit ARIMA model and return AIC\n",
    "def fit_arima_order(series, order):\n",
    "    try:\n",
    "        model = ARIMA(series, order=order)\n",
    "        fit = model.fit()\n",
    "        return fit.aic, order\n",
    "    except:\n",
    "        return np.inf, order\n",
    "\n",
    "# Define function to find the best ARIMA order using parallel processing\n",
    "def find_best_arima_order(series, p_max, d_max, q_max):\n",
    "    orders = [(p, d, q) for p in range(p_max+1) for d in range(d_max+1) for q in range(q_max+1)]\n",
    "    results = Parallel(n_jobs=-1)(delayed(fit_arima_order)(series, order) for order in orders)\n",
    "    best_aic, best_order = min(results, key=lambda x: x[0])\n",
    "    return best_order\n",
    "\n",
    "# Find the best ARIMA order\n",
    "best_order = find_best_arima_order(df['Price'], 5, 2, 5)\n",
    "print(f'Best ARIMA order: {best_order}')\n",
    "\n",
    "# Fit the best ARIMA model\n",
    "arima_model = ARIMA(df['Price'], order=best_order)\n",
    "arima_fit = arima_model.fit()\n",
    "print(arima_fit.summary())"
   ]
  },
  {
   "cell_type": "markdown",
   "metadata": {},
   "source": [
    "2.2. GARCH Model"
   ]
  },
  {
   "cell_type": "code",
   "execution_count": 21,
   "metadata": {},
   "outputs": [
    {
     "name": "stdout",
     "output_type": "stream",
     "text": [
      "Best GARCH order: (5, 1)\n",
      "Iteration:      1,   Func. Count:     10,   Neg. LLF: 186191852.9590142\n",
      "Iteration:      2,   Func. Count:     20,   Neg. LLF: 70506.50076473101\n",
      "Iteration:      3,   Func. Count:     31,   Neg. LLF: 241956552.68780157\n",
      "Iteration:      4,   Func. Count:     43,   Neg. LLF: 43840.807106742366\n",
      "Iteration:      5,   Func. Count:     53,   Neg. LLF: 43661.96336274084\n",
      "Iteration:      6,   Func. Count:     63,   Neg. LLF: 40448.85670700649\n",
      "Iteration:      7,   Func. Count:     74,   Neg. LLF: 37928.29613673523\n",
      "Iteration:      8,   Func. Count:     84,   Neg. LLF: 36185.09674890972\n",
      "Iteration:      9,   Func. Count:     93,   Neg. LLF: 38797.304710956865\n",
      "Iteration:     10,   Func. Count:    103,   Neg. LLF: 5386552369987.4795\n",
      "Iteration:     11,   Func. Count:    116,   Neg. LLF: 39540.12569404357\n",
      "Iteration:     12,   Func. Count:    126,   Neg. LLF: 477986683.97599477\n",
      "Iteration:     13,   Func. Count:    136,   Neg. LLF: 39553.96541271986\n",
      "Iteration:     14,   Func. Count:    146,   Neg. LLF: 40757.89414925352\n",
      "Iteration:     15,   Func. Count:    156,   Neg. LLF: 39696.32085502895\n",
      "Iteration:     16,   Func. Count:    166,   Neg. LLF: 56122.695482861716\n",
      "Iteration:     17,   Func. Count:    179,   Neg. LLF: 39774.85350995221\n",
      "Iteration:     18,   Func. Count:    189,   Neg. LLF: 35245.92712548242\n",
      "Iteration:     19,   Func. Count:    198,   Neg. LLF: 35554.519195829045\n",
      "Iteration:     20,   Func. Count:    209,   Neg. LLF: 2178009.6470956965\n",
      "Iteration:     21,   Func. Count:    221,   Neg. LLF: 36269.341147779014\n",
      "Iteration:     22,   Func. Count:    231,   Neg. LLF: 38131.85962235255\n",
      "Iteration:     23,   Func. Count:    242,   Neg. LLF: 35432.13098608133\n",
      "Iteration:     24,   Func. Count:    252,   Neg. LLF: 35200.998491285725\n",
      "Iteration:     25,   Func. Count:    262,   Neg. LLF: 35205.60305424272\n",
      "Iteration:     26,   Func. Count:    272,   Neg. LLF: 35189.893323105556\n",
      "Iteration:     27,   Func. Count:    281,   Neg. LLF: 35189.19708892569\n",
      "Iteration:     28,   Func. Count:    290,   Neg. LLF: 35189.12733870595\n",
      "Iteration:     29,   Func. Count:    299,   Neg. LLF: 35189.131946424284\n",
      "Iteration:     30,   Func. Count:    309,   Neg. LLF: 35189.11639711674\n",
      "Iteration:     31,   Func. Count:    318,   Neg. LLF: 35189.11630492535\n",
      "Iteration:     32,   Func. Count:    327,   Neg. LLF: 35189.11630218797\n",
      "Iteration:     33,   Func. Count:    335,   Neg. LLF: 35189.11630562356\n",
      "Optimization terminated successfully    (Exit mode 0)\n",
      "            Current function value: 35189.11630218797\n",
      "            Iterations: 35\n",
      "            Function evaluations: 335\n",
      "            Gradient evaluations: 33\n",
      "                     Constant Mean - GARCH Model Results                      \n",
      "==============================================================================\n",
      "Dep. Variable:                  Price   R-squared:                       0.000\n",
      "Mean Model:             Constant Mean   Adj. R-squared:                  0.000\n",
      "Vol Model:                      GARCH   Log-Likelihood:               -35189.1\n",
      "Distribution:                  Normal   AIC:                           70394.2\n",
      "Method:            Maximum Likelihood   BIC:                           70451.1\n",
      "                                        No. Observations:                 9011\n",
      "Date:                Tue, Feb 25 2025   Df Residuals:                     9010\n",
      "Time:                        22:16:46   Df Model:                            1\n",
      "                               Mean Model                               \n",
      "========================================================================\n",
      "                 coef    std err          t      P>|t|  95.0% Conf. Int.\n",
      "------------------------------------------------------------------------\n",
      "mu            18.5450      0.127    145.491      0.000 [ 18.295, 18.795]\n",
      "                               Volatility Model                              \n",
      "=============================================================================\n",
      "                 coef    std err          t      P>|t|       95.0% Conf. Int.\n",
      "-----------------------------------------------------------------------------\n",
      "omega          0.0763  1.128e-02      6.765  1.336e-11  [5.419e-02,9.841e-02]\n",
      "alpha[1]       0.8986  3.730e-02     24.088 3.352e-128      [  0.825,  0.972]\n",
      "alpha[2]       0.0160  4.273e-02      0.376      0.707 [-6.770e-02,9.980e-02]\n",
      "alpha[3]       0.0000  3.221e-02      0.000      1.000 [-6.314e-02,6.314e-02]\n",
      "alpha[4]       0.0321  2.868e-02      1.117      0.264 [-2.417e-02,8.827e-02]\n",
      "alpha[5]       0.0533  4.269e-02      1.249      0.212   [-3.034e-02,  0.137]\n",
      "beta[1]        0.0000  2.164e-03      0.000      1.000 [-4.242e-03,4.242e-03]\n",
      "=============================================================================\n",
      "\n",
      "Covariance estimator: robust\n"
     ]
    }
   ],
   "source": [
    "# Define function to fit GARCH model and return AIC\n",
    "def fit_garch_order(series, p, q):\n",
    "    try:\n",
    "        model = arch_model(series, vol='Garch', p=p, q=q)\n",
    "        fit = model.fit(disp='off')\n",
    "        return fit.aic, (p, q)\n",
    "    except:\n",
    "        return np.inf, (p, q)\n",
    "\n",
    "# Define function to find the best GARCH order using parallel processing\n",
    "def find_best_garch_order(series, p_max, q_max):\n",
    "    orders = [(p, q) for p in range(1, p_max+1) for q in range(1, q_max+1)]\n",
    "    results = Parallel(n_jobs=-1)(delayed(fit_garch_order)(series, p, q) for p, q in orders)\n",
    "    best_aic, best_order = min(results, key=lambda x: x[0])\n",
    "    return best_order\n",
    "\n",
    "# Find the best GARCH order\n",
    "best_order = find_best_garch_order(df['Price'], 5, 5)\n",
    "print(f'Best GARCH order: {best_order}')\n",
    "\n",
    "# Fit the best GARCH model\n",
    "garch_model = arch_model(df['Price'], vol='Garch', p=best_order[0], q=best_order[1])\n",
    "garch_fit = garch_model.fit()\n",
    "print(garch_fit.summary())"
   ]
  },
  {
   "cell_type": "markdown",
   "metadata": {},
   "source": [
    "2.3. Markov-Switching ARIMA"
   ]
  },
  {
   "cell_type": "code",
   "execution_count": 3,
   "metadata": {},
   "outputs": [
    {
     "name": "stderr",
     "output_type": "stream",
     "text": [
      "e:\\OnlineClass\\AIM\\BrentOil_Time_Series_Statistical_Modelling\\.venv\\Lib\\site-packages\\statsmodels\\tsa\\base\\tsa_model.py:473: ValueWarning: A date index has been provided, but it has no associated frequency information and so will be ignored when e.g. forecasting.\n",
      "  self._init_dates(dates, freq)\n"
     ]
    },
    {
     "name": "stdout",
     "output_type": "stream",
     "text": [
      "                        Markov Switching Model Results                        \n",
      "==============================================================================\n",
      "Dep. Variable:                  Price   No. Observations:                 9011\n",
      "Model:               MarkovRegression   Log Likelihood              -35281.967\n",
      "Date:                Wed, 26 Feb 2025   AIC                          70575.934\n",
      "Time:                        15:16:55   BIC                          70618.571\n",
      "Sample:                             0   HQIC                         70590.441\n",
      "                               - 9011                                         \n",
      "Covariance Type:               approx                                         \n",
      "                             Regime 0 parameters                              \n",
      "==============================================================================\n",
      "                 coef    std err          z      P>|z|      [0.025      0.975]\n",
      "------------------------------------------------------------------------------\n",
      "const         20.0441      0.088    227.669      0.000      19.872      20.217\n",
      "sigma2        26.3180      0.704     37.394      0.000      24.939      27.697\n",
      "                             Regime 1 parameters                              \n",
      "==============================================================================\n",
      "                 coef    std err          z      P>|z|      [0.025      0.975]\n",
      "------------------------------------------------------------------------------\n",
      "const         73.6469      0.391    188.494      0.000      72.881      74.413\n",
      "sigma2       663.8057     13.902     47.750      0.000     636.559     691.052\n",
      "                         Regime transition parameters                         \n",
      "==============================================================================\n",
      "                 coef    std err          z      P>|z|      [0.025      0.975]\n",
      "------------------------------------------------------------------------------\n",
      "p[0->0]        0.9987      0.001   1830.927      0.000       0.998       1.000\n",
      "p[1->0]        0.0012      0.000      2.400      0.016       0.000       0.002\n",
      "==============================================================================\n",
      "\n",
      "Warnings:\n",
      "[1] Covariance matrix calculated using numerical (complex-step) differentiation.\n"
     ]
    }
   ],
   "source": [
    "# Fit Markov-Switching ARIMA model\n",
    "model = MarkovRegression(df['Price'], k_regimes=2, trend='c', switching_variance=True)\n",
    "model_fit = model.fit()\n",
    "print(model_fit.summary())"
   ]
  },
  {
   "cell_type": "markdown",
   "metadata": {},
   "source": [
    "2.4. LSTM Networks for Capturing Complex Patterns"
   ]
  },
  {
   "cell_type": "code",
   "execution_count": 4,
   "metadata": {},
   "outputs": [
    {
     "name": "stderr",
     "output_type": "stream",
     "text": [
      "e:\\OnlineClass\\AIM\\BrentOil_Time_Series_Statistical_Modelling\\.venv\\Lib\\site-packages\\keras\\src\\layers\\rnn\\rnn.py:200: UserWarning: Do not pass an `input_shape`/`input_dim` argument to a layer. When using Sequential models, prefer using an `Input(shape)` object as the first layer in the model instead.\n",
      "  super().__init__(**kwargs)\n"
     ]
    },
    {
     "name": "stdout",
     "output_type": "stream",
     "text": [
      "Epoch 1/20\n",
      "\u001b[1m280/280\u001b[0m \u001b[32m━━━━━━━━━━━━━━━━━━━━\u001b[0m\u001b[37m\u001b[0m \u001b[1m23s\u001b[0m 42ms/step - loss: 0.0103\n",
      "Epoch 2/20\n",
      "\u001b[1m280/280\u001b[0m \u001b[32m━━━━━━━━━━━━━━━━━━━━\u001b[0m\u001b[37m\u001b[0m \u001b[1m12s\u001b[0m 41ms/step - loss: 4.5577e-04\n",
      "Epoch 3/20\n",
      "\u001b[1m280/280\u001b[0m \u001b[32m━━━━━━━━━━━━━━━━━━━━\u001b[0m\u001b[37m\u001b[0m \u001b[1m12s\u001b[0m 42ms/step - loss: 3.7516e-04\n",
      "Epoch 4/20\n",
      "\u001b[1m280/280\u001b[0m \u001b[32m━━━━━━━━━━━━━━━━━━━━\u001b[0m\u001b[37m\u001b[0m \u001b[1m12s\u001b[0m 42ms/step - loss: 3.1150e-04\n",
      "Epoch 5/20\n",
      "\u001b[1m280/280\u001b[0m \u001b[32m━━━━━━━━━━━━━━━━━━━━\u001b[0m\u001b[37m\u001b[0m \u001b[1m21s\u001b[0m 42ms/step - loss: 2.7315e-04\n",
      "Epoch 6/20\n",
      "\u001b[1m280/280\u001b[0m \u001b[32m━━━━━━━━━━━━━━━━━━━━\u001b[0m\u001b[37m\u001b[0m \u001b[1m12s\u001b[0m 42ms/step - loss: 2.3636e-04\n",
      "Epoch 7/20\n",
      "\u001b[1m280/280\u001b[0m \u001b[32m━━━━━━━━━━━━━━━━━━━━\u001b[0m\u001b[37m\u001b[0m \u001b[1m20s\u001b[0m 42ms/step - loss: 2.3043e-04\n",
      "Epoch 8/20\n",
      "\u001b[1m280/280\u001b[0m \u001b[32m━━━━━━━━━━━━━━━━━━━━\u001b[0m\u001b[37m\u001b[0m \u001b[1m12s\u001b[0m 41ms/step - loss: 1.8647e-04\n",
      "Epoch 9/20\n",
      "\u001b[1m280/280\u001b[0m \u001b[32m━━━━━━━━━━━━━━━━━━━━\u001b[0m\u001b[37m\u001b[0m \u001b[1m12s\u001b[0m 42ms/step - loss: 1.8331e-04\n",
      "Epoch 10/20\n",
      "\u001b[1m280/280\u001b[0m \u001b[32m━━━━━━━━━━━━━━━━━━━━\u001b[0m\u001b[37m\u001b[0m \u001b[1m12s\u001b[0m 41ms/step - loss: 1.6492e-04\n",
      "Epoch 11/20\n",
      "\u001b[1m280/280\u001b[0m \u001b[32m━━━━━━━━━━━━━━━━━━━━\u001b[0m\u001b[37m\u001b[0m \u001b[1m12s\u001b[0m 41ms/step - loss: 1.4278e-04\n",
      "Epoch 12/20\n",
      "\u001b[1m280/280\u001b[0m \u001b[32m━━━━━━━━━━━━━━━━━━━━\u001b[0m\u001b[37m\u001b[0m \u001b[1m12s\u001b[0m 42ms/step - loss: 1.4056e-04\n",
      "Epoch 13/20\n",
      "\u001b[1m280/280\u001b[0m \u001b[32m━━━━━━━━━━━━━━━━━━━━\u001b[0m\u001b[37m\u001b[0m \u001b[1m12s\u001b[0m 41ms/step - loss: 1.3328e-04\n",
      "Epoch 14/20\n",
      "\u001b[1m280/280\u001b[0m \u001b[32m━━━━━━━━━━━━━━━━━━━━\u001b[0m\u001b[37m\u001b[0m \u001b[1m12s\u001b[0m 42ms/step - loss: 1.1072e-04\n",
      "Epoch 15/20\n",
      "\u001b[1m280/280\u001b[0m \u001b[32m━━━━━━━━━━━━━━━━━━━━\u001b[0m\u001b[37m\u001b[0m \u001b[1m12s\u001b[0m 41ms/step - loss: 1.1446e-04\n",
      "Epoch 16/20\n",
      "\u001b[1m280/280\u001b[0m \u001b[32m━━━━━━━━━━━━━━━━━━━━\u001b[0m\u001b[37m\u001b[0m \u001b[1m21s\u001b[0m 42ms/step - loss: 1.1894e-04\n",
      "Epoch 17/20\n",
      "\u001b[1m280/280\u001b[0m \u001b[32m━━━━━━━━━━━━━━━━━━━━\u001b[0m\u001b[37m\u001b[0m \u001b[1m12s\u001b[0m 42ms/step - loss: 9.7346e-05\n",
      "Epoch 18/20\n",
      "\u001b[1m280/280\u001b[0m \u001b[32m━━━━━━━━━━━━━━━━━━━━\u001b[0m\u001b[37m\u001b[0m \u001b[1m21s\u001b[0m 42ms/step - loss: 1.2639e-04\n",
      "Epoch 19/20\n",
      "\u001b[1m280/280\u001b[0m \u001b[32m━━━━━━━━━━━━━━━━━━━━\u001b[0m\u001b[37m\u001b[0m \u001b[1m12s\u001b[0m 41ms/step - loss: 1.0172e-04\n",
      "Epoch 20/20\n",
      "\u001b[1m280/280\u001b[0m \u001b[32m━━━━━━━━━━━━━━━━━━━━\u001b[0m\u001b[37m\u001b[0m \u001b[1m12s\u001b[0m 43ms/step - loss: 1.1971e-04\n"
     ]
    },
    {
     "data": {
      "text/plain": [
       "<keras.src.callbacks.history.History at 0x1862c31b140>"
      ]
     },
     "execution_count": 4,
     "metadata": {},
     "output_type": "execute_result"
    }
   ],
   "source": [
    "# Prepare data for LSTM\n",
    "scaler = MinMaxScaler(feature_range=(0, 1))\n",
    "scaled_data = scaler.fit_transform(df['Price'].values.reshape(-1, 1))\n",
    "\n",
    "# Define a function to create sequences for LSTM\n",
    "def create_sequences(data, seq_length):\n",
    "    sequences = []\n",
    "    for i in range(len(data) - seq_length):\n",
    "        sequences.append(data[i:i + seq_length])\n",
    "    return np.array(sequences)\n",
    "\n",
    "seq_length = 60\n",
    "X = create_sequences(scaled_data, seq_length)\n",
    "y = scaled_data[seq_length:]\n",
    "\n",
    "# Build LSTM model\n",
    "model = Sequential()\n",
    "model.add(LSTM(units=50, return_sequences=True, input_shape=(seq_length, 1)))\n",
    "model.add(LSTM(units=50))\n",
    "model.add(Dense(1))\n",
    "model.compile(optimizer='adam', loss='mean_squared_error')\n",
    "\n",
    "# Train the model\n",
    "model.fit(X, y, epochs=20, batch_size=32)"
   ]
  },
  {
   "cell_type": "markdown",
   "metadata": {},
   "source": [
    "2.5. Vector Autoregression (VAR) for Multivariate Time Series Analysis"
   ]
  },
  {
   "cell_type": "code",
   "execution_count": 8,
   "metadata": {},
   "outputs": [
    {
     "name": "stderr",
     "output_type": "stream",
     "text": [
      "e:\\OnlineClass\\AIM\\BrentOil_Time_Series_Statistical_Modelling\\.venv\\Lib\\site-packages\\statsmodels\\tsa\\base\\tsa_model.py:473: ValueWarning: A date index has been provided, but it has no associated frequency information and so will be ignored when e.g. forecasting.\n",
      "  self._init_dates(dates, freq)\n"
     ]
    },
    {
     "name": "stdout",
     "output_type": "stream",
     "text": [
      "  Summary of Regression Results   \n",
      "==================================\n",
      "Model:                         VAR\n",
      "Method:                        OLS\n",
      "Date:           Wed, 26, Feb, 2025\n",
      "Time:                     15:38:27\n",
      "--------------------------------------------------------------------\n",
      "No. of Equations:         3.00000    BIC:                   -1.56895\n",
      "Nobs:                     9009.00    HQIC:                  -1.57519\n",
      "Log likelihood:          -31227.7    FPE:                   0.206302\n",
      "AIC:                     -1.57842    Det(Omega_mle):        0.206027\n",
      "--------------------------------------------------------------------\n",
      "Results for equation Price\n",
      "===============================================================================\n",
      "                  coefficient       std. error           t-stat            prob\n",
      "-------------------------------------------------------------------------------\n",
      "const                0.008120         0.012810            0.634           0.526\n",
      "L1.Price             0.025426         0.010536            2.413           0.016\n",
      "L1.GDP               0.008122         0.018106            0.449           0.654\n",
      "L1.Inflation         0.034391         0.018203            1.889           0.059\n",
      "===============================================================================\n",
      "\n",
      "Results for equation GDP\n",
      "===============================================================================\n",
      "                  coefficient       std. error           t-stat            prob\n",
      "-------------------------------------------------------------------------------\n",
      "const               -0.000102         0.006452           -0.016           0.987\n",
      "L1.Price             0.003491         0.005306            0.658           0.511\n",
      "L1.GDP              -0.501844         0.009119          -55.032           0.000\n",
      "L1.Inflation        -0.002674         0.009168           -0.292           0.771\n",
      "===============================================================================\n",
      "\n",
      "Results for equation Inflation\n",
      "===============================================================================\n",
      "                  coefficient       std. error           t-stat            prob\n",
      "-------------------------------------------------------------------------------\n",
      "const                0.000078         0.006425            0.012           0.990\n",
      "L1.Price             0.000139         0.005284            0.026           0.979\n",
      "L1.GDP               0.008656         0.009081            0.953           0.340\n",
      "L1.Inflation        -0.499703         0.009129          -54.739           0.000\n",
      "===============================================================================\n",
      "\n",
      "Correlation matrix of residuals\n",
      "                Price       GDP  Inflation\n",
      "Price        1.000000  0.002491   0.000923\n",
      "GDP          0.002491  1.000000  -0.020165\n",
      "Inflation    0.000923 -0.020165   1.000000\n",
      "\n",
      "\n",
      "\n"
     ]
    }
   ],
   "source": [
    "# Add dummy economic indicators for illustration purposes\n",
    "df['GDP'] = np.random.normal(loc=2, scale=0.5, size=len(df))\n",
    "df['Inflation'] = np.random.normal(loc=2, scale=0.5, size=len(df))\n",
    "\n",
    "# Prepare data for VAR\n",
    "model_data = df[['Price', 'GDP', 'Inflation']]\n",
    "model_data_diff = model_data.diff().dropna()\n",
    "\n",
    "# Fit the VAR model\n",
    "model = VAR(model_data_diff)\n",
    "model_fit = model.fit()\n",
    "print(model_fit.summary())"
   ]
  },
  {
   "cell_type": "markdown",
   "metadata": {},
   "source": [
    "3: Exploring Other Factors Influencing Oil Prices\n",
    "\n",
    "Investigate other potential factors like GDP, Inflation Rates, Unemployment Rates, etc."
   ]
  },
  {
   "cell_type": "code",
   "execution_count": 9,
   "metadata": {},
   "outputs": [
    {
     "data": {
      "image/png": "[encoded data removed]",
      "text/plain": [
       "<Figure size 1000x600 with 2 Axes>"
      ]
     },
     "metadata": {},
     "output_type": "display_data"
    }
   ],
   "source": [
    "# Exploring the correlation between oil prices and economic indicators\n",
    "plt.figure(figsize=(10, 6))\n",
    "sns.heatmap(df.corr(), annot=True, cmap='coolwarm')\n",
    "plt.title('Correlation Matrix')\n",
    "plt.show()"
   ]
  },
  {
   "cell_type": "markdown",
   "metadata": {},
   "source": [
    "4: Model Evaluation\n",
    "\n",
    "Evaluate the models using performance metrics such as RMSE, MAE, and R-squared."
   ]
  },
  {
   "cell_type": "code",
   "execution_count": 13,
   "metadata": {},
   "outputs": [
    {
     "name": "stdout",
     "output_type": "stream",
     "text": [
      "VAR Model - RMSE: 96.022973074943, MAE: 95.99848827779523\n"
     ]
    },
    {
     "ename": "ValueError",
     "evalue": "operands could not be broadcast together with shapes (9009,3) (1,10,60,1) (9009,3) ",
     "output_type": "error",
     "traceback": [
      "\u001b[1;31m---------------------------------------------------------------------------\u001b[0m",
      "\u001b[1;31mValueError\u001b[0m                                Traceback (most recent call last)",
      "Cell \u001b[1;32mIn[13], line 15\u001b[0m\n\u001b[0;32m     12\u001b[0m X_test \u001b[38;5;241m=\u001b[39m np\u001b[38;5;241m.\u001b[39mexpand_dims(X[\u001b[38;5;241m-\u001b[39m\u001b[38;5;241m10\u001b[39m:], axis\u001b[38;5;241m=\u001b[39m\u001b[38;5;241m0\u001b[39m)  \u001b[38;5;66;03m# Adjust the dimensions for the LSTM model\u001b[39;00m\n\u001b[0;32m     14\u001b[0m \u001b[38;5;66;03m# Make predictions\u001b[39;00m\n\u001b[1;32m---> 15\u001b[0m lstm_predictions \u001b[38;5;241m=\u001b[39m \u001b[43mmodel\u001b[49m\u001b[38;5;241;43m.\u001b[39;49m\u001b[43mpredict\u001b[49m\u001b[43m(\u001b[49m\u001b[43mX_test\u001b[49m\u001b[43m)\u001b[49m\n\u001b[0;32m     16\u001b[0m lstm_predictions \u001b[38;5;241m=\u001b[39m np\u001b[38;5;241m.\u001b[39msqueeze(lstm_predictions)  \u001b[38;5;66;03m# Remove single-dimensional entries\u001b[39;00m\n\u001b[0;32m     18\u001b[0m lstm_rmse \u001b[38;5;241m=\u001b[39m np\u001b[38;5;241m.\u001b[39msqrt(mean_squared_error(lstm_predictions, y[\u001b[38;5;241m-\u001b[39m\u001b[38;5;241m10\u001b[39m:]))\n",
      "File \u001b[1;32me:\\OnlineClass\\AIM\\BrentOil_Time_Series_Statistical_Modelling\\.venv\\Lib\\site-packages\\statsmodels\\tsa\\vector_ar\\var_model.py:585\u001b[0m, in \u001b[0;36mVAR.predict\u001b[1;34m(self, params, start, end, lags, trend)\u001b[0m\n\u001b[0;32m    583\u001b[0m \u001b[38;5;28;01mif\u001b[39;00m k_trend \u001b[38;5;241m!=\u001b[39m \u001b[38;5;241m0\u001b[39m:\n\u001b[0;32m    584\u001b[0m     intercept \u001b[38;5;241m=\u001b[39m params[:k_trend]\n\u001b[1;32m--> 585\u001b[0m     \u001b[43mpredictedvalues\u001b[49m\u001b[43m \u001b[49m\u001b[38;5;241;43m+\u001b[39;49m\u001b[38;5;241;43m=\u001b[39;49m\u001b[43m \u001b[49m\u001b[43mintercept\u001b[49m\n\u001b[0;32m    587\u001b[0m y \u001b[38;5;241m=\u001b[39m \u001b[38;5;28mself\u001b[39m\u001b[38;5;241m.\u001b[39mendog\n\u001b[0;32m    588\u001b[0m x \u001b[38;5;241m=\u001b[39m util\u001b[38;5;241m.\u001b[39mget_var_endog(y, lags, trend\u001b[38;5;241m=\u001b[39mtrend, has_constant\u001b[38;5;241m=\u001b[39m\u001b[38;5;124m\"\u001b[39m\u001b[38;5;124mraise\u001b[39m\u001b[38;5;124m\"\u001b[39m)\n",
      "\u001b[1;31mValueError\u001b[0m: operands could not be broadcast together with shapes (9009,3) (1,10,60,1) (9009,3) "
     ]
    }
   ],
   "source": [
    "# VAR model predictions\n",
    "var_predictions = model_fit.forecast(model_data_diff.values[-model_fit.k_ar:], steps=10)\n",
    "var_rmse = np.sqrt(mean_squared_error(var_predictions[:, 0], model_data['Price'].values[-10:]))\n",
    "var_mae = mean_absolute_error(var_predictions[:, 0], model_data['Price'].values[-10:])\n",
    "\n",
    "\n",
    "print(f'VAR Model - RMSE: {var_rmse}, MAE: {var_mae}')\n",
    "\n",
    "# LSTM model predictions\n",
    "\n",
    "# Prepare the data for prediction\n",
    "X_test = np.expand_dims(X[-10:], axis=0)  # Adjust the dimensions for the LSTM model\n",
    "\n",
    "# Make predictions\n",
    "lstm_predictions = model.predict(X_test)\n",
    "lstm_predictions = np.squeeze(lstm_predictions)  # Remove single-dimensional entries\n",
    "\n",
    "lstm_rmse = np.sqrt(mean_squared_error(lstm_predictions, y[-10:]))\n",
    "lstm_mae = mean_absolute_error(lstm_predictions, y[-10:])\n",
    "\n",
    "print(f'LSTM Model - RMSE: {lstm_rmse}, MAE: {lstm_mae}')"
   ]
  },
  {
   "cell_type": "markdown",
   "metadata": {},
   "source": [
    "Save the Notebook"
   ]
  },
  {
   "cell_type": "code",
   "execution_count": 14,
   "metadata": {},
   "outputs": [
    {
     "data": {
      "text/plain": [
       "1"
      ]
     },
     "execution_count": 14,
     "metadata": {},
     "output_type": "execute_result"
    }
   ],
   "source": [
    "# Save the notebook\n",
    "import os\n",
    "\n",
    "notebook_name = 'model.ipynb'\n",
    "os.system(f'jupyter nbconvert --to notebook --execute {notebook_name}')"
   ]
  }
 ],
 "metadata": {
  "kernelspec": {
   "display_name": ".venv",
   "language": "python",
   "name": "python3"
  },
  "language_info": {
   "codemirror_mode": {
    "name": "ipython",
    "version": 3
   },
   "file_extension": ".py",
   "mimetype": "text/x-python",
   "name": "python",
   "nbconvert_exporter": "python",
   "pygments_lexer": "ipython3",
   "version": "3.12.7"
  }
 },
 "nbformat": 4,
 "nbformat_minor": 2
}
